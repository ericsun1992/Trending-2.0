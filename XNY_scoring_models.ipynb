{
 "cells": [
  {
   "cell_type": "code",
   "execution_count": 390,
   "id": "4e86cb3a",
   "metadata": {},
   "outputs": [],
   "source": [
    "#import packages\n",
    "import sys\n",
    "import pandas as pd\n",
    "import numpy as np\n",
    "import TSLPy3 as ts\n",
    "import GetData as g\n",
    "# Wind API\n",
    "from WindPy import w\n",
    "#Tinysoft API\n",
    "import TSLPy3 as ts\n",
    "import matplotlib.pyplot as plt \n",
    "import talib\n",
    "#解决作图中文乱码问题\n",
    "from pylab import mpl\n",
    "mpl.rcParams['font.sans-serif'] = ['Microsoft YaHei']\n",
    "mpl.rcParams['axes.unicode_minus'] = False\n",
    "import os\n",
    "from collections import OrderedDict"
   ]
  },
  {
   "cell_type": "code",
   "execution_count": 888,
   "id": "cdf4eaa8",
   "metadata": {},
   "outputs": [],
   "source": [
    "import sklearn as sklearn\n",
    "from sklearn.linear_model import LinearRegression\n",
    "import statsmodels.api as sm"
   ]
  },
  {
   "cell_type": "code",
   "execution_count": 1247,
   "id": "a0bb2847",
   "metadata": {},
   "outputs": [],
   "source": [
    "# import xgboost as xgb\n",
    "import sklearn as sklearn\n",
    "from sklearn.metrics import r2_score\n",
    "import statsmodels.api as sm\n",
    "import xgboost as xgb"
   ]
  },
  {
   "cell_type": "code",
   "execution_count": 391,
   "id": "7b64bd24",
   "metadata": {},
   "outputs": [
    {
     "data": {
      "text/plain": [
       "True"
      ]
     },
     "execution_count": 391,
     "metadata": {},
     "output_type": "execute_result"
    }
   ],
   "source": [
    "#启动Wind API\n",
    "w.start()\n",
    "w.isconnected()"
   ]
  },
  {
   "cell_type": "markdown",
   "id": "5bdd251a",
   "metadata": {},
   "source": [
    "## 新能源股票池 - new energy industry stock pool"
   ]
  },
  {
   "cell_type": "code",
   "execution_count": 340,
   "id": "f88b62e5",
   "metadata": {},
   "outputs": [],
   "source": [
    "#无法获得因子数据，故删除\n",
    "stock_delete = [\"SH688097\",\"SH688499\",\"SH688660\"]"
   ]
  },
  {
   "cell_type": "code",
   "execution_count": 341,
   "id": "0ebc82f5",
   "metadata": {},
   "outputs": [],
   "source": [
    "def StockIdWindtoTS(StockId):\n",
    "    return StockId.map(lambda x:str(x)[-2:]+str(x)[:-3]) "
   ]
  },
  {
   "cell_type": "code",
   "execution_count": 342,
   "id": "ee5b5a77",
   "metadata": {},
   "outputs": [],
   "source": [
    "XNY_stock_pool=pd.read_excel(\"P:\\Documents\\量化\\行业内因子选股\\新能源\\stock_pool\\新能源_股票list_0715.xlsx\",dtype = object)"
   ]
  },
  {
   "cell_type": "code",
   "execution_count": 343,
   "id": "d6de7be6",
   "metadata": {},
   "outputs": [],
   "source": [
    "var_list = ['代码', '名称','上游原材料', '中游设备电池', '中游材料', '中游零部件','下游整车', '下游TMT类', '下游汽车电子', '光伏主产业链', '光伏辅材', '风电', '储能']\n",
    "XNY_stock=(XNY_stock_pool.groupby([\"代码\",\"名称\"]).sum()).reset_index()[var_list]\n",
    "sub_ind_list = ['上游原材料', '中游设备电池', '中游材料', '中游零部件','下游整车', '下游TMT类', '下游汽车电子', '光伏主产业链', '光伏辅材', '风电', '储能']\n",
    "XNY_stock[sub_ind_list] = (XNY_stock[sub_ind_list]>0)*1"
   ]
  },
  {
   "cell_type": "code",
   "execution_count": 344,
   "id": "e984daf0",
   "metadata": {},
   "outputs": [],
   "source": [
    "XNY_stock.rename(columns={\"代码\":\"stock_id\"},inplace=True)\n",
    "XNY_stock[\"stock_id\"]=StockIdWindtoTS(XNY_stock[\"stock_id\"])\n",
    "XNY_stock=XNY_stock[-XNY_stock[\"stock_id\"].isin(stock_delete)]"
   ]
  },
  {
   "cell_type": "code",
   "execution_count": 345,
   "id": "611db468",
   "metadata": {},
   "outputs": [],
   "source": [
    "industry_flag=XNY_stock.drop([\"名称\"],axis=1)"
   ]
  },
  {
   "cell_type": "code",
   "execution_count": 43,
   "id": "1efacf57",
   "metadata": {},
   "outputs": [],
   "source": [
    "# XNY_stock.to_excel(\"P:\\Documents\\量化\\行业内因子选股\\新能源\\stock_pool\\新能源股票_去重.xlsx\",index=True)"
   ]
  },
  {
   "cell_type": "code",
   "execution_count": 39,
   "id": "0c2cc984",
   "metadata": {},
   "outputs": [],
   "source": [
    "# stock_output = pd.merge(XNY_stock_pool.iloc[:,:4],XNY_stock,how='left',on=['代码',\"名称\"]) "
   ]
  },
  {
   "cell_type": "code",
   "execution_count": 393,
   "id": "f966b2b7",
   "metadata": {},
   "outputs": [],
   "source": [
    "##step1：获取回测区间每周最后一个交易日\n",
    "# def get_trade_date(start_date, end_date, period='D'):\n",
    "#     data = w.tdays(start_date, end_date, period=period) #获取每月最后一个交易日\n",
    "#     trade_dates = data.Data[0]\n",
    "#     trade_dates = [dt.strftime(\"%Y-%m-%d\") for dt in trade_dates]\n",
    "#     return trade_dates\n",
    "\n",
    "# ##设置回测区间\n",
    "# start_date='20140102'\n",
    "# end_date='20220718'\n",
    "# dates=get_trade_date(start_date, end_date, period='D')"
   ]
  },
  {
   "cell_type": "code",
   "execution_count": 744,
   "id": "9369d3f9",
   "metadata": {},
   "outputs": [],
   "source": [
    "start_date='2014-01-02'\n",
    "end_date='2022-07-18'\n",
    "dates=g.GetTradeDates(begT=start_date,endT=end_date,type_id='W')\n",
    "dates = pd.Series(dates).apply(lambda x:str(x)[0:4]+\"-\"+str(x)[4:6]+\"-\"+str(x)[6:8]).tolist()"
   ]
  },
  {
   "cell_type": "code",
   "execution_count": 773,
   "id": "8f85b5d5",
   "metadata": {},
   "outputs": [],
   "source": [
    "d_temp = pd.DataFrame(dates,columns=[\"date\"])\n",
    "d_temp[\"month\"]= d_temp[\"date\"].map(lambda x:str(x)[:7])\n",
    "model_update_date = d_temp.groupby(\"month\")[\"date\"].min().tolist()"
   ]
  },
  {
   "cell_type": "code",
   "execution_count": 694,
   "id": "5950aead",
   "metadata": {},
   "outputs": [],
   "source": [
    "#Step2: 构建所有交易日股票池列表\n",
    "#需要满足以下条件：\n",
    "# 1.非ST/PT股票\n",
    "# 2. 剔除上市不满一年的股票\n",
    "# 3. 剔除选股日停牌而无法买入的股票"
   ]
  },
  {
   "cell_type": "code",
   "execution_count": 695,
   "id": "e7423f7b",
   "metadata": {},
   "outputs": [],
   "source": [
    "origin_loc_ST = \"\\\\\\\\172.16.2.3\\\\winfile\\\\量化投资部\\\\xunsun\\\\Database\\\\StockST\\\\\"\n",
    "origin_loc_Suspended = \"\\\\\\\\172.16.2.3\\\\winfile\\\\量化投资部\\\\xunsun\\\\Database\\\\StockSuspended\\\\\""
   ]
  },
  {
   "cell_type": "code",
   "execution_count": 696,
   "id": "dd3fbec2",
   "metadata": {},
   "outputs": [],
   "source": [
    "def stock_ST_filter(stock_list,dt):\n",
    "    stock_list = pd.DataFrame(stock_list,columns=[\"stock_id\"])\n",
    "    st_list= pd.read_csv(origin_loc_ST+str(dt).replace(\"-\",\"\")+\".csv\",dtype=\"object\")\n",
    "    stock_list = stock_list[-stock_list[\"stock_id\"].isin(st_list.stock_id)]\n",
    "    return stock_list.stock_id.tolist()"
   ]
  },
  {
   "cell_type": "code",
   "execution_count": 697,
   "id": "6bdfe114",
   "metadata": {},
   "outputs": [],
   "source": [
    "def stock_Suspended_filter(stock_list,dt):\n",
    "    stock_list = pd.DataFrame(stock_list,columns=[\"stock_id\"])\n",
    "    Suspended_list= pd.read_csv(origin_loc_Suspended+str(dt).replace(\"-\",\"\")+\".csv\",dtype=\"object\")\n",
    "    stock_list = stock_list[-stock_list[\"stock_id\"].isin(Suspended_list.stock_id)]\n",
    "    return stock_list.stock_id.tolist()"
   ]
  },
  {
   "cell_type": "markdown",
   "id": "0f3d9720",
   "metadata": {},
   "source": [
    "### 获取因子数据"
   ]
  },
  {
   "cell_type": "code",
   "execution_count": 701,
   "id": "5077beaa",
   "metadata": {},
   "outputs": [],
   "source": [
    "fields=[\"GROWTH_EarningRate_SQIncre\",\n",
    "\"GROWTH_NetProfit_SQIncre_2Mcap\",\n",
    "\"GROWTH_EstNetProfit_SQIncre_2Mcap\",\n",
    "\"GROWTH_NPIncreQ2Q_2Mcap\",\n",
    "\"GROWTH_NetProfit_SQYOY\",\n",
    "\"GROWTH_NetProfit_Standard\",\n",
    "\"GROWTH_ROE_SQYOY\",\n",
    "\"GROWTH_ROE_TTMIncre\",\n",
    "\"GROWTH_RROC\",\n",
    "\"GROWTH_Acceleration\",\n",
    "\"GROWTH_SalesEarning_SQYOY\",\n",
    "\"GROWTH_Sales_SQYOY\",\n",
    "\"GROWTH_Sales_SQIncre_2Mcap\",\n",
    "\"GROWTH_SUE\",\n",
    "\"GROWTH_DepositReceived_YOYIncre2Debt\",\n",
    "\"GROWTH_Salary_YOYIncre2Ast\",\n",
    "\"GROWTH_CON_NPCGRATE_1W\",\n",
    "\"GROWTH_CON_NPCGRATE_4W\",\n",
    "\"GROWTH_CON_NPCGRATE_13W\",\n",
    "\"PROFIT_CashRateOfSales_TTM\",\n",
    "\"PROFIT_FCFF_5YHL\",\n",
    "\"PROFIT_FCFF_5YHL-Std\",\n",
    "\"PROFIT_FCFF_Stability\",\n",
    "\"PROFIT_GrossProfitMargin_TTM\",\n",
    "\"PROFIT_NetProfitMargin_TTM\",\n",
    "\"PROFIT_ROE_TTM\",\n",
    "\"PROFIT_ROE_SQ\",\n",
    "\"PROFIT_ROE_Stability\",\n",
    "\"PROFIT_ROIC_SQ\",\n",
    "\"PROFIT_SalesEarningRatio_TTM\",\n",
    "\"PROFIT_CON_NP_ROLLING\",\n",
    "\"PROFIT_CON_OR_ROLLING\",\n",
    "\"PROFIT_CON_NP\",\n",
    "\"QUALITY_PledgeRatio\",\n",
    "\"QUALITY_PublishDateGap\",\n",
    "\"QUALITY_LiabilityRatio\",\n",
    "\"QUALITY_CFO2Debt\",\n",
    "\"QUALITY_CFO2Sales\",\n",
    "\"QUALITY_CFO2NP\",\n",
    "\"QUALITY_LiabilityRatio_YOYIncre\",\n",
    "\"SIZE_LnMarketValue\",\n",
    "\"QFII_HoldingPercent\",\n",
    "\"QFII_PercentRise_15D\",\n",
    "\"QFII_PercentRise_30D\",\n",
    "\"QFII_PercentRise_60D\",\n",
    "\"LIQUIDITY_ILLIQ\",\n",
    "\"LIQUIDITY_ILLIQ_10D\",\n",
    "\"LIQUIDITY_TrunoverRate_1Mto3M\",\n",
    "\"LIQUIDITY_TurnoverRate_Avg1M\",\n",
    "\"LIQUIDITY_Volume_Std1M\",\n",
    "\"REVERSAL_StockZF_10D\",\n",
    "\"REVERSAL_StockZF_20D\",\n",
    "\"REVERSAL_StockZF_40D\",\n",
    "\"REVERSAL_StockZF_60D\",\n",
    "\"REVERSAL_Extreme_Return\",\n",
    "\"REVERSAL_MHigh_20D\",\n",
    "\"REVERSAL_M_20D\",\n",
    "\"VOLATILITY_RealizedVol_20D\",\n",
    "\"VOLATILITY_DASTD\",\n",
    "\"VOLATILITY_ATR20\",\n",
    "\"VOLATILITY_M_20D\",\n",
    "\"VOLATILITY_Amplitude_Mean\",\n",
    "\"TECHNICAL_APB_1M\",\n",
    "\"TECHNICAL_ARRP\",\n",
    "\"TECHNICAL_Alpha_IR\",\n",
    "\"TECHNICAL_Amplitude_Diff\",\n",
    "\"TECHNICAL_Buy_to_Sell\",\n",
    "\"TECHNICAL_BigOrderRatio_20D\",\n",
    "\"TECHNICAL_BigOrderRatio_10D\",\n",
    "\"TECHNICAL_BigOrderStrength_20D\",\n",
    "\"TECHNICAL_BigOrderStrength_10D\",\n",
    "\"TECHNICAL_DUVOL\",\n",
    "\"TECHNICAL_DownwardVol\",\n",
    "\"TECHNICAL_IVR\",\n",
    "\"TECHNICAL_PVCorr_20D\",\n",
    "\"TECHNICAL_Ratative_TurnVol\",\n",
    "\"TECHNICAL_LongTermMom\",\n",
    "\"TECHNICAL_Mild_Momentum\",\n",
    "\"TECHNICAL_Quantile_Momentum\",\n",
    "\"TECHNICAL_Quantile_TurnoverRate\",\n",
    "\"TECHNICAL_QFII_MidTerm\",\n",
    "\"TECHNICAL_Smart_Money\",\n",
    "\"EMOTION_MktConfidence_25D\",\n",
    "\"EMOTION_MktConfidence_75D\"\n",
    "]"
   ]
  },
  {
   "cell_type": "code",
   "execution_count": 702,
   "id": "79752a75",
   "metadata": {},
   "outputs": [],
   "source": [
    "col_size=[\"SIZE_LnMarketValue\"]\n",
    "columns_index = ['date',\"stock_id\"]\n",
    "columns_industry=list(industry_flag.columns[1:])"
   ]
  },
  {
   "cell_type": "code",
   "execution_count": 703,
   "id": "7107317c",
   "metadata": {},
   "outputs": [],
   "source": [
    "factors_quant=gd.GetFactorData(stocks=stock_list,begT=dt.replace(\"-\",\"\"), endT=0, fields=fields,type_id='')\n",
    "data_factors=pd.merge(factors_quant,industry_flag,on=\"stock_id\",how=\"left\")"
   ]
  },
  {
   "cell_type": "code",
   "execution_count": 365,
   "id": "924efc9f",
   "metadata": {},
   "outputs": [
    {
     "data": {
      "text/plain": [
       "(457, 97)"
      ]
     },
     "execution_count": 365,
     "metadata": {},
     "output_type": "execute_result"
    }
   ],
   "source": [
    "data_factors.shape"
   ]
  },
  {
   "cell_type": "markdown",
   "id": "8c38e092",
   "metadata": {},
   "source": [
    "### Outliers"
   ]
  },
  {
   "cell_type": "code",
   "execution_count": 363,
   "id": "f90ee11d",
   "metadata": {},
   "outputs": [],
   "source": [
    "#构建绝对中位数处理法函数\n",
    "def extreme_process_MAD(data,num=3,columns_exclude=['date',\"stock_id\"]):#data为输入的数据集，如果数值超过num个判断标准则使其等于num个标准\n",
    "    data_=data.copy() # 为不破坏原始数据，先对其进行拷贝\n",
    "    feature_names = [i for i in data_.columns.tolist() if i not in columns_exclude] #获取数据集中需测试的因子名\n",
    "    median=data_[feature_names].median(axis=0) #获取中位数\n",
    "    MAD=abs(data_[feature_names].sub(median,axis=1)).median(axis=0) #按列索引匹配，并在行中广播\n",
    "    data_.loc[:,feature_names]=data_.loc[:,feature_names].clip(lower=median-num*1.4826*MAD,upper=median+num*1.4826*MAD,axis=1) #利用clip()函数，将因子取值限定在上下限范围内，即用上下限来代替异常值\n",
    "    return data_"
   ]
  },
  {
   "cell_type": "markdown",
   "id": "448a110d",
   "metadata": {},
   "source": [
    "### Missing Data"
   ]
  },
  {
   "cell_type": "code",
   "execution_count": 367,
   "id": "e56807f8",
   "metadata": {},
   "outputs": [],
   "source": [
    "#step2:若仍存在缺失值，则用该天的股票池因子的平均值代替\n",
    "def null_process(data,columns_exclude=['date',\"stock_id\"]):\n",
    "    if True in data.isnull().any().values: #判断数据是否存在缺失值\n",
    "        col=[i for i in data.columns.tolist() if i not in columns_exclude] #得到因子名称\n",
    "        mean=data[col].mean(axis=0) #按列求均值\n",
    "        dict_=OrderedDict((key,value) for key,value in zip(mean.index.tolist(),mean.values))\n",
    "        data.fillna(dict_,inplace=True) #用该天的股票池的平均值来代替\n",
    "    return data"
   ]
  },
  {
   "cell_type": "code",
   "execution_count": 1032,
   "id": "2dbf53f7",
   "metadata": {},
   "outputs": [],
   "source": [
    "def null_process2(data):\n",
    "    if True in data.isnull().any().values: #判断数据是否存在缺失值\n",
    "        col=[i for i in data.columns.tolist() if i not in columns_industry+[\"return\"]] #得到因子名称\n",
    "        mean=data[col].mean(axis=0) #按列求均值\n",
    "        dict_=OrderedDict((key,value) for key,value in zip(mean.index.tolist(),mean.values))\n",
    "        data.fillna(dict_,inplace=True) #用该天的股票池的平均值来代替\n",
    "    return data"
   ]
  },
  {
   "cell_type": "markdown",
   "id": "13c031ca",
   "metadata": {},
   "source": [
    "### 市值和行业中性化 - Neutralize"
   ]
  },
  {
   "cell_type": "code",
   "execution_count": 215,
   "id": "abcc455b",
   "metadata": {},
   "outputs": [],
   "source": [
    "#columns_index\n",
    "#columns_industry\n",
    "col_size=[\"SIZE_LnMarketValue\"]"
   ]
  },
  {
   "cell_type": "code",
   "execution_count": 370,
   "id": "f3192601",
   "metadata": {},
   "outputs": [],
   "source": [
    "import numpy.linalg as la #用来做线性代数运算\n",
    "#行业市值中性化处理\n",
    "def data_scale_neutral(data,columns_index,columns_industry,col_size):\n",
    "    data_=data.copy()\n",
    "    feature_names = [i for i in data_.columns.tolist() if i not in columns_index+columns_industry+col_size] #获取数据集中需测试的因子名\n",
    "    n = len(columns_industry)\n",
    "    x=data_[columns_industry[1:]+col_size] #将行业变量与对数市值合并\n",
    "    X= np.array(x) #行业虚拟变量与对数市值作为为自变量\n",
    "    for name in feature_names:\n",
    "        y = np.array(data_[name])\n",
    "        if la.matrix_rank(X.T.dot(X)) == (n): #当矩阵满秩时，估计回归参数\n",
    "            beta_ols = la.inv(X.T.dot(X)).dot(X.T).dot(y)\n",
    "            residual = y - X.dot(beta_ols) #计算残差，并将其作为剔除行业影响的因子值\n",
    "        else:\n",
    "            residual = y #如果逆不存在的话 则 用原值\n",
    "        data_[name]=residual\n",
    "    return data_"
   ]
  },
  {
   "cell_type": "markdown",
   "id": "61575cfb",
   "metadata": {},
   "source": [
    "### 标准化处理 - Standadization"
   ]
  },
  {
   "cell_type": "code",
   "execution_count": 375,
   "id": "66bce0d9",
   "metadata": {},
   "outputs": [],
   "source": [
    "def data_scale_Z_Score(data,columns_exclude=['date',\"stock_id\"]):\n",
    "    data_=data.copy() # 为不破坏原始数据，先对其进行拷贝\n",
    "    feature_names = [i for i in data_.columns.tolist() if i not in columns_exclude] #获取数据集中需测试的因子名\n",
    "    data_.loc[:,feature_names] = (data_.loc[:,feature_names] - data_.loc[:,feature_names].mean())/data_.loc[:,feature_names].std()\n",
    "    return data_"
   ]
  },
  {
   "cell_type": "code",
   "execution_count": null,
   "id": "4abeea42",
   "metadata": {},
   "outputs": [],
   "source": [
    "# XNY_stock\n",
    "#industry_flag=XNY_stock.drop([\"名称\"],axis=1)"
   ]
  },
  {
   "cell_type": "code",
   "execution_count": 1306,
   "id": "23c46f82",
   "metadata": {},
   "outputs": [],
   "source": [
    "# df_train=pd.DataFrame()\n",
    "# for i in range(len(dates)-1):\n",
    "#     dt = dates[i]\n",
    "#     if i==(len(dates)-1):\n",
    "#         dt1 =\"2030-1-19\"\n",
    "#     else:\n",
    "#         dt1 = dates[i+1]\n",
    "#     stock_list = g.stock_issueDate_filter(XNY_stock.stock_id,dt,delta=360)\n",
    "#     stock_list = stock_ST_filter(stock_list,dt)\n",
    "#     stock_list = stock_Suspended_filter(stock_list,dt)\n",
    "#     factors_quant=gd.GetFactorData(stocks=stock_list,begT=dt.replace(\"-\",\"\"), endT=0, fields=fields,type_id='')\n",
    "#     data_factors=pd.merge(factors_quant,industry_flag,on=\"stock_id\",how=\"left\")\n",
    "#     #异常值处理\n",
    "#     data_factors_1 = extreme_process_MAD(data_factors,columns_exclude=columns_index+columns_industry)\n",
    "#     #缺失值处理\n",
    "#     data_factors_2 = null_process(data_factors_1,columns_exclude=columns_index+columns_industry)\n",
    "#     #市值行业中性\n",
    "#     data_factors_3 = data_scale_neutral(data_factors_2,columns_index=columns_index,columns_industry=columns_industry,col_size=col_size)\n",
    "#     #再次异常值处理\n",
    "#     data_factors_3 = extreme_process_MAD(data_factors_3,columns_exclude=columns_index+columns_industry)\n",
    "#     #标准化处理\n",
    "#     data_factors_4 = data_scale_Z_Score(data_factors_3,columns_exclude=columns_index+columns_industry)\n",
    "#     market_data=g.GetMarketData(stock_list,begT=dt, fields =[\"close\"])\n",
    "#     r_t = market_data[[\"close\"]]\n",
    "#     r_t1=g.GetMarketData(stock_list,begT=dt1, fields =[\"close\"])[[\"close\"]]\n",
    "#     market_data[\"return\"]=np.log(r_t1/r_t)\n",
    "#     data_factors5=pd.merge(data_factors_4,market_data[[\"stock_id\",\"return\"]],on=\"stock_id\",how=\"left\")\n",
    "#     df_train=pd.concat([df_train,data_factors5],axis=0)"
   ]
  },
  {
   "cell_type": "code",
   "execution_count": 1291,
   "id": "b3a9c5d8",
   "metadata": {},
   "outputs": [],
   "source": [
    "df_train_xgb=pd.DataFrame()\n",
    "for i in range(len(dates)-1):\n",
    "    dt = dates[i]\n",
    "    if i==(len(dates)-1):\n",
    "        dt1 =\"2030-1-19\"\n",
    "    else:\n",
    "        dt1 = dates[i+1]\n",
    "    stock_list = g.stock_issueDate_filter(XNY_stock.stock_id,dt,delta=360)\n",
    "    stock_list = stock_ST_filter(stock_list,dt)\n",
    "    stock_list = stock_Suspended_filter(stock_list,dt)\n",
    "    factors_quant=gd.GetFactorData(stocks=stock_list,begT=dt.replace(\"-\",\"\"), endT=0, fields=fields,type_id='')\n",
    "    data_factors=pd.merge(factors_quant,industry_flag,on=\"stock_id\",how=\"left\")\n",
    "    #异常值处理\n",
    "    data_factors_1 = extreme_process_MAD(data_factors,columns_exclude=columns_index+columns_industry)\n",
    "    #缺失值处理\n",
    "    data_factors_2 = null_process(data_factors_1,columns_exclude=columns_index+columns_industry)\n",
    "    market_data=g.GetMarketData(stock_list,begT=dt, fields =[\"close\"])\n",
    "    r_t = market_data[[\"close\"]]\n",
    "    r_t1=g.GetMarketData(stock_list,begT=dt1, fields =[\"close\"])[[\"close\"]]\n",
    "    market_data[\"return\"]=np.log(r_t1/r_t)\n",
    "    data_factors5=pd.merge(data_factors_2,market_data[[\"stock_id\",\"return\"]],on=\"stock_id\",how=\"left\")\n",
    "    df_train_xgb=pd.concat([df_train_xgb,data_factors5],axis=0)"
   ]
  },
  {
   "cell_type": "code",
   "execution_count": 1292,
   "id": "ecf7ccc6",
   "metadata": {},
   "outputs": [],
   "source": [
    "df_train_xgb.to_csv(\"P:\\\\Documents\\\\量化\\\\行业内因子选股\\\\新能源\\\\factor_data\\\\XNY_data_xgb.csv\",index=False)"
   ]
  },
  {
   "cell_type": "code",
   "execution_count": 479,
   "id": "7851f996",
   "metadata": {},
   "outputs": [],
   "source": [
    "df_train.to_csv(\"P:\\\\Documents\\\\量化\\\\行业内因子选股\\\\新能源\\\\factor_data\\\\XNY_data.csv\",index=False)"
   ]
  },
  {
   "cell_type": "code",
   "execution_count": 1079,
   "id": "b0357fd8",
   "metadata": {},
   "outputs": [],
   "source": [
    "df_train1=pd.read_csv(\"P:\\\\Documents\\\\量化\\\\行业内因子选股\\\\新能源\\\\factor_data\\\\XNY_data.csv\",index_col=[1,0],encoding=\"utf-8\")"
   ]
  },
  {
   "cell_type": "code",
   "execution_count": 1293,
   "id": "43c22d0b",
   "metadata": {},
   "outputs": [],
   "source": [
    "df_train_xgb2 = pd.read_csv(\"P:\\\\Documents\\\\量化\\\\行业内因子选股\\\\新能源\\\\factor_data\\\\XNY_data_xgb.csv\",index_col=[1,0],encoding=\"utf-8\")"
   ]
  },
  {
   "cell_type": "code",
   "execution_count": 1294,
   "id": "06605a02",
   "metadata": {},
   "outputs": [],
   "source": [
    "df_train_final_xgb = df_train_xgb2.fillna(0)"
   ]
  },
  {
   "cell_type": "code",
   "execution_count": 714,
   "id": "39206cb6",
   "metadata": {},
   "outputs": [
    {
     "data": {
      "text/plain": [
       "(144806, 96)"
      ]
     },
     "execution_count": 714,
     "metadata": {},
     "output_type": "execute_result"
    }
   ],
   "source": [
    "df_train1.shape"
   ]
  },
  {
   "cell_type": "code",
   "execution_count": 1082,
   "id": "e8cdf0cf",
   "metadata": {},
   "outputs": [],
   "source": [
    "# df_train2 = null_process(df_train1,columns_exclude=columns_index+columns_industry)"
   ]
  },
  {
   "cell_type": "code",
   "execution_count": 715,
   "id": "0cca256a",
   "metadata": {},
   "outputs": [],
   "source": [
    "col_return=[\"return\"]\n",
    "#columns_industry"
   ]
  },
  {
   "cell_type": "code",
   "execution_count": 716,
   "id": "0ddf3ca6",
   "metadata": {},
   "outputs": [],
   "source": [
    "#计算RankIC\n",
    "from scipy import stats\n",
    "def get_RankIC(datas,col_return,columns_industry):\n",
    "    factors_name=[i for i in datas.columns.tolist() if i not in (col_return+columns_industry)] #得到因子名\n",
    "    ic = datas.groupby(level=0).apply(lambda data: [stats.spearmanr(data[factor],data[\"return\"])[0] for factor in factors_name]) #得到的是以列表为值的序列\n",
    "    ic = pd.DataFrame(ic.tolist(), index=ic.index, columns=factors_name) #得到各因子IC值,一个list为一个列\n",
    "    return ic"
   ]
  },
  {
   "cell_type": "code",
   "execution_count": 717,
   "id": "744d2c55",
   "metadata": {},
   "outputs": [],
   "source": [
    "#计算IC\n",
    "from scipy import stats\n",
    "def get_IC(datas,col_return,columns_industry):\n",
    "    factors_name=[i for i in datas.columns.tolist() if i not in (col_return+columns_industry)] #得到因子名\n",
    "    ic = datas.groupby(level=0).apply(lambda data: [stats.pearsonr(data[factor],data[\"return\"])[0] for factor in factors_name]) #得到的是以列表为值的序列\n",
    "    ic = pd.DataFrame(ic.tolist(), index=ic.index, columns=factors_name) #得到各因子IC值,一个list为一个列\n",
    "    return ic"
   ]
  },
  {
   "cell_type": "code",
   "execution_count": null,
   "id": "5ab6e7b2",
   "metadata": {},
   "outputs": [],
   "source": [
    "#计算IR\n",
    "# def IR_weight(datas):\n",
    "#     datas_=datas.copy()\n",
    "#     ic=get_ic(datas) #计算ic值，得到ic的\n",
    "#     ic0 = ic.abs() #计算ic的绝对值\n",
    "#     rolling_ic = ic0.rolling(52,min_periods=1).mean() #rolling为移动窗口函数,滚动12个月\n",
    "#     rolling_ic_std=ic0.rolling(52,min_periods=1).std() #当滚动计算标准差时，起始日期得到的是缺失值，所以算完权重后，起始日期的值任用原值IC代替\n",
    "#     IR=rolling_ic/rolling_ic_std #计算IR值\n",
    "#     IR.iloc[0,:]=rolling_ic.iloc[0,:]\n",
    "#     weight = IR.div(IR.sum(axis=1),axis=0) #计算IR权重,按行求和,按列相除\n",
    "# return weight"
   ]
  },
  {
   "cell_type": "code",
   "execution_count": 1090,
   "id": "0a04355f",
   "metadata": {},
   "outputs": [],
   "source": [
    "#IC\n",
    "ic = get_RankIC(df_train1,col_return=col_return,columns_industry=columns_industry)"
   ]
  },
  {
   "cell_type": "code",
   "execution_count": 1091,
   "id": "109126a0",
   "metadata": {},
   "outputs": [],
   "source": [
    "#Rolling_IC\n",
    "rolling_ic = ic.rolling(52).mean()"
   ]
  },
  {
   "cell_type": "code",
   "execution_count": 1092,
   "id": "7f0a277c",
   "metadata": {},
   "outputs": [],
   "source": [
    "#ICIR"
   ]
  },
  {
   "cell_type": "code",
   "execution_count": 1093,
   "id": "99980058",
   "metadata": {},
   "outputs": [],
   "source": [
    "ICIR = (ic.rolling(52).mean()/ic.rolling(52).std())"
   ]
  },
  {
   "cell_type": "code",
   "execution_count": 585,
   "id": "d5636926",
   "metadata": {},
   "outputs": [],
   "source": [
    "# rolling_ic.abs().sort_values(by = \"2022-07-08\",ascending=False, axis=1)[rolling_ic.index==\"2022-07-08\"]"
   ]
  },
  {
   "cell_type": "code",
   "execution_count": 587,
   "id": "78316c0c",
   "metadata": {},
   "outputs": [],
   "source": [
    "factor_growth = [\"GROWTH_EarningRate_SQIncre\",\n",
    "\"GROWTH_NetProfit_SQIncre_2Mcap\",\n",
    "\"GROWTH_EstNetProfit_SQIncre_2Mcap\",\n",
    "\"GROWTH_NPIncreQ2Q_2Mcap\",\n",
    "\"GROWTH_NetProfit_SQYOY\",\n",
    "\"GROWTH_NetProfit_Standard\",\n",
    "\"GROWTH_ROE_SQYOY\",\n",
    "\"GROWTH_ROE_TTMIncre\",\n",
    "\"GROWTH_RROC\",\n",
    "\"GROWTH_Acceleration\",\n",
    "\"GROWTH_SalesEarning_SQYOY\",\n",
    "\"GROWTH_Sales_SQYOY\",\n",
    "\"GROWTH_Sales_SQIncre_2Mcap\",\n",
    "\"GROWTH_SUE\",\n",
    "\"GROWTH_DepositReceived_YOYIncre2Debt\",\n",
    "\"GROWTH_Salary_YOYIncre2Ast\",\n",
    "\"GROWTH_CON_NPCGRATE_1W\",\n",
    "\"GROWTH_CON_NPCGRATE_4W\",\n",
    "\"GROWTH_CON_NPCGRATE_13W\"]"
   ]
  },
  {
   "cell_type": "code",
   "execution_count": 589,
   "id": "8853de61",
   "metadata": {},
   "outputs": [],
   "source": [
    "factor_profit = [\"PROFIT_FCFF_5YHL\",\n",
    "\"PROFIT_FCFF_5YHL-Std\",\n",
    "\"PROFIT_FCFF_Stability\",\n",
    "\"PROFIT_GrossProfitMargin_TTM\",\n",
    "\"PROFIT_NetProfitMargin_TTM\",\n",
    "\"PROFIT_ROE_TTM\",\n",
    "\"PROFIT_ROE_SQ\",\n",
    "\"PROFIT_ROE_Stability\",\n",
    "\"PROFIT_ROIC_SQ\",\n",
    "\"PROFIT_SalesEarningRatio_TTM\",\n",
    "\"PROFIT_CON_NP_ROLLING\",\n",
    "\"PROFIT_CON_OR_ROLLING\",\n",
    "\"PROFIT_CON_NP\"]"
   ]
  },
  {
   "cell_type": "code",
   "execution_count": 590,
   "id": "d2569034",
   "metadata": {},
   "outputs": [],
   "source": [
    "factor_quality = [\"QUALITY_PledgeRatio\",\n",
    "\"QUALITY_PublishDateGap\",\n",
    "\"QUALITY_LiabilityRatio\",\n",
    "\"QUALITY_CFO2Debt\",\n",
    "\"QUALITY_CFO2Sales\",\n",
    "\"QUALITY_CFO2NP\",\n",
    "\"QUALITY_LiabilityRatio_YOYIncre\"\n",
    "]"
   ]
  },
  {
   "cell_type": "code",
   "execution_count": 591,
   "id": "c928294b",
   "metadata": {},
   "outputs": [],
   "source": [
    "factor_size =[\"SIZE_LnMarketValue\"]"
   ]
  },
  {
   "cell_type": "code",
   "execution_count": 592,
   "id": "9aa4583c",
   "metadata": {},
   "outputs": [],
   "source": [
    "factor_qfii = [\"QFII_HoldingPercent\",\n",
    "\"QFII_PercentRise_15D\",\n",
    "\"QFII_PercentRise_30D\",\n",
    "\"QFII_PercentRise_60D\"\n",
    "]"
   ]
  },
  {
   "cell_type": "code",
   "execution_count": 593,
   "id": "f9ce5a2b",
   "metadata": {},
   "outputs": [],
   "source": [
    "factor_liquidity = [\"LIQUIDITY_ILLIQ\",\n",
    "\"LIQUIDITY_ILLIQ_10D\",\n",
    "\"LIQUIDITY_TrunoverRate_1Mto3M\",\n",
    "\"LIQUIDITY_TurnoverRate_Avg1M\",\n",
    "\"LIQUIDITY_Volume_Std1M\"\n",
    "]"
   ]
  },
  {
   "cell_type": "code",
   "execution_count": 594,
   "id": "6f581031",
   "metadata": {},
   "outputs": [],
   "source": [
    "factor_reversal = [\"REVERSAL_StockZF_10D\",\n",
    "\"REVERSAL_StockZF_20D\",\n",
    "\"REVERSAL_StockZF_40D\",\n",
    "\"REVERSAL_StockZF_60D\",\n",
    "\"REVERSAL_Extreme_Return\",\n",
    "\"REVERSAL_MHigh_20D\",\n",
    "\"REVERSAL_M_20D\"]"
   ]
  },
  {
   "cell_type": "code",
   "execution_count": 595,
   "id": "f493e890",
   "metadata": {},
   "outputs": [],
   "source": [
    "factor_volatility =[\"VOLATILITY_RealizedVol_20D\",\n",
    "\"VOLATILITY_DASTD\",\n",
    "\"VOLATILITY_ATR20\",\n",
    "\"VOLATILITY_M_20D\",\n",
    "\"VOLATILITY_Amplitude_Mean\"\n",
    "]"
   ]
  },
  {
   "cell_type": "code",
   "execution_count": 596,
   "id": "a1611050",
   "metadata": {},
   "outputs": [],
   "source": [
    "factor_technical  = [\"TECHNICAL_APB_1M\",\n",
    "\"TECHNICAL_ARRP\",\n",
    "\"TECHNICAL_Alpha_IR\",\n",
    "\"TECHNICAL_Amplitude_Diff\",\n",
    "\"TECHNICAL_Buy_to_Sell\",\n",
    "\"TECHNICAL_BigOrderRatio_20D\",\n",
    "\"TECHNICAL_BigOrderRatio_10D\",\n",
    "\"TECHNICAL_BigOrderStrength_20D\",\n",
    "\"TECHNICAL_BigOrderStrength_10D\",\n",
    "\"TECHNICAL_DUVOL\",\n",
    "\"TECHNICAL_DownwardVol\",\n",
    "\"TECHNICAL_IVR\",\n",
    "\"TECHNICAL_PVCorr_20D\",\n",
    "\"TECHNICAL_Ratative_TurnVol\",\n",
    "\"TECHNICAL_LongTermMom\",\n",
    "\"TECHNICAL_Mild_Momentum\",\n",
    "\"TECHNICAL_Quantile_Momentum\",\n",
    "\"TECHNICAL_Quantile_TurnoverRate\",\n",
    "\"TECHNICAL_QFII_MidTerm\",\n",
    "\"TECHNICAL_Smart_Money\"]"
   ]
  },
  {
   "cell_type": "code",
   "execution_count": 597,
   "id": "f313106f",
   "metadata": {},
   "outputs": [],
   "source": [
    "factor_emotion = [\"EMOTION_MktConfidence_25D\",\n",
    "\"EMOTION_MktConfidence_75D\"]"
   ]
  },
  {
   "cell_type": "code",
   "execution_count": 724,
   "id": "808ae15c",
   "metadata": {},
   "outputs": [],
   "source": [
    "#依据ICIR进行因子选择\n",
    "def getBestFactor(ICIR,dt):\n",
    "    f_top10 = list(ICIR.loc[[dt],].sort_values(by =dt,ascending=False, axis=1).columns[:10])\n",
    "    f_growth_top5 = list(ICIR.loc[[dt],factor_growth].sort_values(by =dt,ascending=False, axis=1).columns[:5])\n",
    "    f_profit_top5 = list(ICIR.loc[[dt],factor_profit].sort_values(by =dt,ascending=False, axis=1).columns[:5])\n",
    "    f_quality_top3 = list(ICIR.loc[[dt],factor_quality].sort_values(by =dt,ascending=False, axis=1).columns[:3])\n",
    "    #factor_size\n",
    "    f_reversal_top3 = list(ICIR.loc[[dt],factor_reversal].sort_values(by =dt,ascending=False, axis=1).columns[:3])\n",
    "    f_volatility_top3 = list(ICIR.loc[[dt],factor_volatility].sort_values(by =dt,ascending=False, axis=1).columns[:3])\n",
    "    f_technical_top5 = list(ICIR.loc[[dt],factor_technical].sort_values(by =dt,ascending=False, axis=1).columns[:5])\n",
    "    #factor_emotion\n",
    "    f_selected =set(f_top10+f_growth_top5+f_profit_top5+f_reversal_top3+f_volatility_top3+f_technical_top5+factor_size+factor_emotion)\n",
    "    return list(f_selected)"
   ]
  },
  {
   "cell_type": "code",
   "execution_count": 783,
   "id": "bd46fd4a",
   "metadata": {},
   "outputs": [],
   "source": [
    "f_selected = getBestFactor(ICIR,dt)"
   ]
  },
  {
   "cell_type": "markdown",
   "id": "2405964b",
   "metadata": {},
   "source": [
    "### Backtest\n",
    "#### Model update: monthly"
   ]
  },
  {
   "cell_type": "code",
   "execution_count": 1083,
   "id": "47d6b47d",
   "metadata": {},
   "outputs": [],
   "source": [
    "df_train_final = df_train1.fillna(0)"
   ]
  },
  {
   "cell_type": "code",
   "execution_count": 1096,
   "id": "3e8f8a77",
   "metadata": {},
   "outputs": [],
   "source": [
    "df_backtest = pd.DataFrame()\n",
    "var_selected_=OrderedDict()\n",
    "model_backtest = OrderedDict()\n",
    "df_all = df_train_final.copy()\n",
    "df_temp = df_all.reset_index()\n",
    "for i in range(36,(len(model_update_date)-1)):\n",
    "    dt = model_update_date[i]\n",
    "    dt_3yrs_ago = model_update_date[i-36]\n",
    "    dt_1month_ahead = model_update_date[i+1]\n",
    "    f_selected = getBestFactor(ICIR,dt)\n",
    "    var_selected_[dt] = f_selected\n",
    "    x_train = df_temp[(df_temp[\"date\"]>dt_3yrs_ago)&(df_temp[\"date\"]<=dt)].set_index([\"date\",\"stock_id\"])[f_selected+columns_industry]\n",
    "    y_train = df_temp[(df_temp[\"date\"]>dt_3yrs_ago)&(df_temp[\"date\"]<=dt)].set_index([\"date\",\"stock_id\"])[\"return\"]\n",
    "    data_test =df_temp[(df_temp[\"date\"]<=dt_1month_ahead)&(df_temp[\"date\"]>dt)].set_index([\"date\",\"stock_id\"])\n",
    "    x_test = data_test[f_selected+columns_industry]\n",
    "    model_lr = LinearRegression(fit_intercept = True)\n",
    "    model_lr.fit(x_train,y_train)\n",
    "    model_backtest[dt]=model_lr\n",
    "    data_test[\"r_predict\"]=model_lr.predict(x_test)\n",
    "    df_backtest= pd.concat([df_backtest,data_test],axis=0)  "
   ]
  },
  {
   "cell_type": "code",
   "execution_count": 973,
   "id": "b672fb20",
   "metadata": {},
   "outputs": [],
   "source": [
    "# r2_score(y_train,model_lr.predict(x_train))"
   ]
  },
  {
   "cell_type": "code",
   "execution_count": 974,
   "id": "5f985f1f",
   "metadata": {},
   "outputs": [],
   "source": [
    "# model_lr.feature_names_in_"
   ]
  },
  {
   "cell_type": "code",
   "execution_count": 887,
   "id": "71aa6a6d",
   "metadata": {},
   "outputs": [],
   "source": [
    "import statsmodels.api as sm"
   ]
  },
  {
   "cell_type": "code",
   "execution_count": 894,
   "id": "bd45e193",
   "metadata": {},
   "outputs": [],
   "source": [
    "# model = sm.OLS(np.asarray(y_train),np.asarray(x_train))"
   ]
  },
  {
   "cell_type": "code",
   "execution_count": 935,
   "id": "79d8b11c",
   "metadata": {},
   "outputs": [],
   "source": [
    "# x=sm.add_constant(x_train)"
   ]
  },
  {
   "cell_type": "code",
   "execution_count": 1125,
   "id": "aa38ca28",
   "metadata": {},
   "outputs": [],
   "source": [
    "def max_Drawdown(price_list):\n",
    "    price_max= np.maximum.accumulate(price_list)\n",
    "    drawdown_ratio=(price_max-price_list)/price_max\n",
    "    max_drawdown=max(drawdown_ratio)\n",
    "    return max_drawdown"
   ]
  },
  {
   "cell_type": "markdown",
   "id": "d9a43397",
   "metadata": {},
   "source": [
    "### Trading Strategies"
   ]
  },
  {
   "cell_type": "code",
   "execution_count": null,
   "id": "0bcc17aa",
   "metadata": {},
   "outputs": [],
   "source": [
    "#选出打分前100的股票\n",
    "portfolio_stock_list = df_backtest[df_backtest[\"r_predict\"].groupby(level=0).rank(ascending=False)<=100]"
   ]
  },
  {
   "cell_type": "code",
   "execution_count": 1228,
   "id": "f129c877",
   "metadata": {},
   "outputs": [],
   "source": [
    "#交易成本测算 - 单边千1.5\n",
    "fee_est = portfolio_stock_list.reset_index()\n",
    "turnover_rate = OrderedDict()\n",
    "tran_fee=OrderedDict()\n",
    "for i in range(len(portfolio_stock_list.index.levels[0])):\n",
    "    date = portfolio_stock_list.index.levels[0][i]\n",
    "    s_t1_list = fee_est[fee_est[\"date\"]==date][\"stock_id\"]\n",
    "    if i ==0:\n",
    "        s_t0_list=list()\n",
    "    else:\n",
    "        date_t0=portfolio_stock_list.index.levels[0][i-1]\n",
    "        s_t0_list = fee_est[fee_est[\"date\"]==date_t0][\"stock_id\"]\n",
    "    stock_change_pct=(len(s_t1_list)-s_t1_list.isin(list(s_t0_list)).sum())/len(s_t1_list)\n",
    "    turnover_rate[date] = stock_change_pct\n",
    "    if i==0:\n",
    "        tran_cost = stock_change_pct*0.001\n",
    "    else:\n",
    "        tran_cost = stock_change_pct*0.002\n",
    "    tran_fee[date] = tran_cost"
   ]
  },
  {
   "cell_type": "code",
   "execution_count": 1231,
   "id": "447812d7",
   "metadata": {},
   "outputs": [],
   "source": [
    "#基准交易成本测算 - 单边千1.5\n",
    "fee_est = df_backtest.reset_index()\n",
    "turnover_rate2 = OrderedDict()\n",
    "tran_fee2=OrderedDict()\n",
    "for i in range(len(portfolio_stock_list.index.levels[0])):\n",
    "    date = portfolio_stock_list.index.levels[0][i]\n",
    "    s_t1_list = fee_est[fee_est[\"date\"]==date][\"stock_id\"]\n",
    "    if i ==0:\n",
    "        s_t0_list=list()\n",
    "    else:\n",
    "        date_t0=portfolio_stock_list.index.levels[0][i-1]\n",
    "        s_t0_list = fee_est[fee_est[\"date\"]==date_t0][\"stock_id\"]\n",
    "    stock_change_pct=(len(s_t1_list)-s_t1_list.isin(list(s_t0_list)).sum())/len(s_t1_list)\n",
    "    turnover_rate2[date] = stock_change_pct\n",
    "    if i==0:\n",
    "        tran_cost = stock_change_pct*0.001\n",
    "    else:\n",
    "        tran_cost = stock_change_pct*0.002\n",
    "    tran_fee2[date] = tran_cost"
   ]
  },
  {
   "cell_type": "code",
   "execution_count": 1240,
   "id": "d538e73c",
   "metadata": {},
   "outputs": [
    {
     "name": "stdout",
     "output_type": "stream",
     "text": [
      "组合回测期平均年化收益：\n",
      "0.1692811258696058\n",
      "组合回测期胜率：\n",
      "0.5871886120996441\n",
      "组合回测期波动率：\n",
      "0.28054023040887205\n",
      "组合回测期平均年化收益(除去交易成本）：\n",
      "0.14084212231088697\n",
      "组合周度换仓平均换手率：\n",
      "0.27523131672597867\n"
     ]
    }
   ],
   "source": [
    "#等权买入选出股票，计算每期收益\n",
    "portfolio_return = portfolio_stock_list[\"return\"].groupby(level=0).mean()\n",
    "#计算回测期平均收益，并转换为年化收益\n",
    "print(\"组合回测期平均年化收益：\")\n",
    "print(portfolio_return.mean()*52)\n",
    "print(\"组合回测期胜率：\")\n",
    "print((portfolio_return>0).sum()/len(portfolio_return))\n",
    "print(\"组合回测期波动率：\")\n",
    "print((portfolio_return).std()*np.sqrt(52))\n",
    "# print(\"组合回测期最大回测：\")\n",
    "# print(max_Drawdown(portfolio_return))\n",
    "portfolio_return_wo_fee=(portfolio_return-list(tran_fee.values()))\n",
    "print(\"组合回测期平均年化收益(除去交易成本）：\")\n",
    "print(portfolio_return_wo_fee.mean()*52)\n",
    "turnover_rate_avg = np.average(list(turnover_rate.values()))\n",
    "print(\"组合周度换仓平均换手率：\")\n",
    "print(turnover_rate_avg)"
   ]
  },
  {
   "cell_type": "code",
   "execution_count": 1232,
   "id": "01b2055b",
   "metadata": {},
   "outputs": [
    {
     "name": "stdout",
     "output_type": "stream",
     "text": [
      "基准回测期平均年化收益：\n",
      "0.06663579220870032\n",
      "基准回测期胜率：\n",
      "0.5338078291814946\n",
      "基准回测期波动率：\n",
      "0.2525838691415711\n",
      "基准回测期平均年化收益(除去交易成本）：\n",
      "0.0659111157299805\n"
     ]
    }
   ],
   "source": [
    "#等权买入所有股票，作为基准\n",
    "benchmark_return = df_backtest[\"return\"].groupby(level=0).mean()\n",
    "print(\"基准回测期平均年化收益：\")\n",
    "print(benchmark_return.mean()*52)\n",
    "print(\"基准回测期胜率：\")\n",
    "print((benchmark_return>0).sum()/len(benchmark_return))\n",
    "print(\"基准回测期波动率：\")\n",
    "print((benchmark_return).std()*np.sqrt(52))\n",
    "benchmark_return_wo_fee=(benchmark_return-list(tran_fee2.values()))\n",
    "print(\"基准回测期平均年化收益(除去交易成本）：\")\n",
    "print(benchmark_return_wo_fee.mean()*52)"
   ]
  },
  {
   "cell_type": "code",
   "execution_count": 1305,
   "id": "50cd57e4",
   "metadata": {},
   "outputs": [
    {
     "data": {
      "text/plain": [
       "0.008747402495218805"
      ]
     },
     "execution_count": 1305,
     "metadata": {},
     "output_type": "execute_result"
    }
   ],
   "source": [
    "np.average(list(turnover_rate2.values()))"
   ]
  },
  {
   "cell_type": "code",
   "execution_count": 1233,
   "id": "7679e6d5",
   "metadata": {},
   "outputs": [
    {
     "name": "stdout",
     "output_type": "stream",
     "text": [
      "超额收益回测期平均年化收益：\n",
      "0.10264533366090542\n",
      "超额收益回测期胜率：\n",
      "0.6405693950177936\n",
      "超额收益回测期波动率：\n",
      "0.13267280468021184\n",
      "超额收益回测期平均年化收益(除去交易成本）：\n",
      "0.07493100658090646\n"
     ]
    }
   ],
   "source": [
    "#超额收益\n",
    "active_return = (portfolio_return-benchmark_return)\n",
    "print(\"超额收益回测期平均年化收益：\")\n",
    "print(active_return.mean()*52)\n",
    "print(\"超额收益回测期胜率：\")\n",
    "print((active_return>0).sum()/len(active_return))\n",
    "print(\"超额收益回测期波动率：\")\n",
    "print((active_return).std()*np.sqrt(52))\n",
    "active_return_wo_fee = (portfolio_return_wo_fee-benchmark_return_wo_fee)\n",
    "print(\"超额收益回测期平均年化收益(除去交易成本）：\")\n",
    "print(active_return_wo_fee.mean()*52)"
   ]
  },
  {
   "cell_type": "code",
   "execution_count": 1124,
   "id": "77ce804a",
   "metadata": {
    "scrolled": true
   },
   "outputs": [
    {
     "name": "stdout",
     "output_type": "stream",
     "text": [
      "IC of Predicted Return：\n",
      "0.07134377266735534\n"
     ]
    }
   ],
   "source": [
    "ic_strategy = df_backtest.groupby(level=0).apply(lambda data: stats.spearmanr(data[\"return\"],data[\"r_predict\"])[0])\n",
    "rolling_ic_strategy = ic_strategy.rolling(52).mean()\n",
    "print(\"IC of Predicted Return：\")\n",
    "print(ic_strategy.mean())"
   ]
  },
  {
   "cell_type": "markdown",
   "id": "3d4ff603",
   "metadata": {},
   "source": [
    "### Xgboost"
   ]
  },
  {
   "cell_type": "code",
   "execution_count": 1297,
   "id": "64706422",
   "metadata": {},
   "outputs": [
    {
     "name": "stdout",
     "output_type": "stream",
     "text": [
      "[21:40:07] WARNING: D:\\Build\\xgboost\\xgboost-1.5.1.git\\src\\learner.cc:576: \n",
      "Parameters: { \"silent\" } might not be used.\n",
      "\n",
      "  This could be a false alarm, with some parameters getting used by language bindings but\n",
      "  then being mistakenly passed down to XGBoost core, or some parameter actually being used\n",
      "  but getting flagged wrongly here. Please open an issue if you find any such cases.\n",
      "\n",
      "\n",
      "[21:40:16] WARNING: D:\\Build\\xgboost\\xgboost-1.5.1.git\\src\\learner.cc:576: \n",
      "Parameters: { \"silent\" } might not be used.\n",
      "\n",
      "  This could be a false alarm, with some parameters getting used by language bindings but\n",
      "  then being mistakenly passed down to XGBoost core, or some parameter actually being used\n",
      "  but getting flagged wrongly here. Please open an issue if you find any such cases.\n",
      "\n",
      "\n",
      "[21:40:25] WARNING: D:\\Build\\xgboost\\xgboost-1.5.1.git\\src\\learner.cc:576: \n",
      "Parameters: { \"silent\" } might not be used.\n",
      "\n",
      "  This could be a false alarm, with some parameters getting used by language bindings but\n",
      "  then being mistakenly passed down to XGBoost core, or some parameter actually being used\n",
      "  but getting flagged wrongly here. Please open an issue if you find any such cases.\n",
      "\n",
      "\n",
      "[21:40:33] WARNING: D:\\Build\\xgboost\\xgboost-1.5.1.git\\src\\learner.cc:576: \n",
      "Parameters: { \"silent\" } might not be used.\n",
      "\n",
      "  This could be a false alarm, with some parameters getting used by language bindings but\n",
      "  then being mistakenly passed down to XGBoost core, or some parameter actually being used\n",
      "  but getting flagged wrongly here. Please open an issue if you find any such cases.\n",
      "\n",
      "\n",
      "[21:40:42] WARNING: D:\\Build\\xgboost\\xgboost-1.5.1.git\\src\\learner.cc:576: \n",
      "Parameters: { \"silent\" } might not be used.\n",
      "\n",
      "  This could be a false alarm, with some parameters getting used by language bindings but\n",
      "  then being mistakenly passed down to XGBoost core, or some parameter actually being used\n",
      "  but getting flagged wrongly here. Please open an issue if you find any such cases.\n",
      "\n",
      "\n",
      "[21:40:52] WARNING: D:\\Build\\xgboost\\xgboost-1.5.1.git\\src\\learner.cc:576: \n",
      "Parameters: { \"silent\" } might not be used.\n",
      "\n",
      "  This could be a false alarm, with some parameters getting used by language bindings but\n",
      "  then being mistakenly passed down to XGBoost core, or some parameter actually being used\n",
      "  but getting flagged wrongly here. Please open an issue if you find any such cases.\n",
      "\n",
      "\n",
      "[21:41:02] WARNING: D:\\Build\\xgboost\\xgboost-1.5.1.git\\src\\learner.cc:576: \n",
      "Parameters: { \"silent\" } might not be used.\n",
      "\n",
      "  This could be a false alarm, with some parameters getting used by language bindings but\n",
      "  then being mistakenly passed down to XGBoost core, or some parameter actually being used\n",
      "  but getting flagged wrongly here. Please open an issue if you find any such cases.\n",
      "\n",
      "\n",
      "[21:41:12] WARNING: D:\\Build\\xgboost\\xgboost-1.5.1.git\\src\\learner.cc:576: \n",
      "Parameters: { \"silent\" } might not be used.\n",
      "\n",
      "  This could be a false alarm, with some parameters getting used by language bindings but\n",
      "  then being mistakenly passed down to XGBoost core, or some parameter actually being used\n",
      "  but getting flagged wrongly here. Please open an issue if you find any such cases.\n",
      "\n",
      "\n",
      "[21:41:22] WARNING: D:\\Build\\xgboost\\xgboost-1.5.1.git\\src\\learner.cc:576: \n",
      "Parameters: { \"silent\" } might not be used.\n",
      "\n",
      "  This could be a false alarm, with some parameters getting used by language bindings but\n",
      "  then being mistakenly passed down to XGBoost core, or some parameter actually being used\n",
      "  but getting flagged wrongly here. Please open an issue if you find any such cases.\n",
      "\n",
      "\n",
      "[21:41:31] WARNING: D:\\Build\\xgboost\\xgboost-1.5.1.git\\src\\learner.cc:576: \n",
      "Parameters: { \"silent\" } might not be used.\n",
      "\n",
      "  This could be a false alarm, with some parameters getting used by language bindings but\n",
      "  then being mistakenly passed down to XGBoost core, or some parameter actually being used\n",
      "  but getting flagged wrongly here. Please open an issue if you find any such cases.\n",
      "\n",
      "\n",
      "[21:41:40] WARNING: D:\\Build\\xgboost\\xgboost-1.5.1.git\\src\\learner.cc:576: \n",
      "Parameters: { \"silent\" } might not be used.\n",
      "\n",
      "  This could be a false alarm, with some parameters getting used by language bindings but\n",
      "  then being mistakenly passed down to XGBoost core, or some parameter actually being used\n",
      "  but getting flagged wrongly here. Please open an issue if you find any such cases.\n",
      "\n",
      "\n",
      "[21:41:48] WARNING: D:\\Build\\xgboost\\xgboost-1.5.1.git\\src\\learner.cc:576: \n",
      "Parameters: { \"silent\" } might not be used.\n",
      "\n",
      "  This could be a false alarm, with some parameters getting used by language bindings but\n",
      "  then being mistakenly passed down to XGBoost core, or some parameter actually being used\n",
      "  but getting flagged wrongly here. Please open an issue if you find any such cases.\n",
      "\n",
      "\n",
      "[21:41:57] WARNING: D:\\Build\\xgboost\\xgboost-1.5.1.git\\src\\learner.cc:576: \n",
      "Parameters: { \"silent\" } might not be used.\n",
      "\n",
      "  This could be a false alarm, with some parameters getting used by language bindings but\n",
      "  then being mistakenly passed down to XGBoost core, or some parameter actually being used\n",
      "  but getting flagged wrongly here. Please open an issue if you find any such cases.\n",
      "\n",
      "\n",
      "[21:42:06] WARNING: D:\\Build\\xgboost\\xgboost-1.5.1.git\\src\\learner.cc:576: \n",
      "Parameters: { \"silent\" } might not be used.\n",
      "\n",
      "  This could be a false alarm, with some parameters getting used by language bindings but\n",
      "  then being mistakenly passed down to XGBoost core, or some parameter actually being used\n",
      "  but getting flagged wrongly here. Please open an issue if you find any such cases.\n",
      "\n",
      "\n",
      "[21:42:15] WARNING: D:\\Build\\xgboost\\xgboost-1.5.1.git\\src\\learner.cc:576: \n",
      "Parameters: { \"silent\" } might not be used.\n",
      "\n",
      "  This could be a false alarm, with some parameters getting used by language bindings but\n",
      "  then being mistakenly passed down to XGBoost core, or some parameter actually being used\n",
      "  but getting flagged wrongly here. Please open an issue if you find any such cases.\n",
      "\n",
      "\n",
      "[21:42:23] WARNING: D:\\Build\\xgboost\\xgboost-1.5.1.git\\src\\learner.cc:576: \n",
      "Parameters: { \"silent\" } might not be used.\n",
      "\n",
      "  This could be a false alarm, with some parameters getting used by language bindings but\n",
      "  then being mistakenly passed down to XGBoost core, or some parameter actually being used\n",
      "  but getting flagged wrongly here. Please open an issue if you find any such cases.\n",
      "\n",
      "\n",
      "[21:42:32] WARNING: D:\\Build\\xgboost\\xgboost-1.5.1.git\\src\\learner.cc:576: \n",
      "Parameters: { \"silent\" } might not be used.\n",
      "\n",
      "  This could be a false alarm, with some parameters getting used by language bindings but\n",
      "  then being mistakenly passed down to XGBoost core, or some parameter actually being used\n",
      "  but getting flagged wrongly here. Please open an issue if you find any such cases.\n",
      "\n",
      "\n",
      "[21:42:40] WARNING: D:\\Build\\xgboost\\xgboost-1.5.1.git\\src\\learner.cc:576: \n",
      "Parameters: { \"silent\" } might not be used.\n",
      "\n",
      "  This could be a false alarm, with some parameters getting used by language bindings but\n",
      "  then being mistakenly passed down to XGBoost core, or some parameter actually being used\n",
      "  but getting flagged wrongly here. Please open an issue if you find any such cases.\n",
      "\n",
      "\n",
      "[21:42:49] WARNING: D:\\Build\\xgboost\\xgboost-1.5.1.git\\src\\learner.cc:576: \n",
      "Parameters: { \"silent\" } might not be used.\n",
      "\n",
      "  This could be a false alarm, with some parameters getting used by language bindings but\n",
      "  then being mistakenly passed down to XGBoost core, or some parameter actually being used\n",
      "  but getting flagged wrongly here. Please open an issue if you find any such cases.\n",
      "\n",
      "\n",
      "[21:42:58] WARNING: D:\\Build\\xgboost\\xgboost-1.5.1.git\\src\\learner.cc:576: \n",
      "Parameters: { \"silent\" } might not be used.\n",
      "\n",
      "  This could be a false alarm, with some parameters getting used by language bindings but\n",
      "  then being mistakenly passed down to XGBoost core, or some parameter actually being used\n",
      "  but getting flagged wrongly here. Please open an issue if you find any such cases.\n",
      "\n",
      "\n",
      "[21:43:07] WARNING: D:\\Build\\xgboost\\xgboost-1.5.1.git\\src\\learner.cc:576: \n",
      "Parameters: { \"silent\" } might not be used.\n",
      "\n",
      "  This could be a false alarm, with some parameters getting used by language bindings but\n",
      "  then being mistakenly passed down to XGBoost core, or some parameter actually being used\n",
      "  but getting flagged wrongly here. Please open an issue if you find any such cases.\n",
      "\n",
      "\n",
      "[21:43:16] WARNING: D:\\Build\\xgboost\\xgboost-1.5.1.git\\src\\learner.cc:576: \n",
      "Parameters: { \"silent\" } might not be used.\n",
      "\n",
      "  This could be a false alarm, with some parameters getting used by language bindings but\n",
      "  then being mistakenly passed down to XGBoost core, or some parameter actually being used\n",
      "  but getting flagged wrongly here. Please open an issue if you find any such cases.\n",
      "\n",
      "\n",
      "[21:43:26] WARNING: D:\\Build\\xgboost\\xgboost-1.5.1.git\\src\\learner.cc:576: \n",
      "Parameters: { \"silent\" } might not be used.\n",
      "\n",
      "  This could be a false alarm, with some parameters getting used by language bindings but\n",
      "  then being mistakenly passed down to XGBoost core, or some parameter actually being used\n",
      "  but getting flagged wrongly here. Please open an issue if you find any such cases.\n",
      "\n",
      "\n",
      "[21:43:35] WARNING: D:\\Build\\xgboost\\xgboost-1.5.1.git\\src\\learner.cc:576: \n",
      "Parameters: { \"silent\" } might not be used.\n",
      "\n",
      "  This could be a false alarm, with some parameters getting used by language bindings but\n",
      "  then being mistakenly passed down to XGBoost core, or some parameter actually being used\n",
      "  but getting flagged wrongly here. Please open an issue if you find any such cases.\n",
      "\n",
      "\n",
      "[21:43:44] WARNING: D:\\Build\\xgboost\\xgboost-1.5.1.git\\src\\learner.cc:576: \n",
      "Parameters: { \"silent\" } might not be used.\n",
      "\n",
      "  This could be a false alarm, with some parameters getting used by language bindings but\n",
      "  then being mistakenly passed down to XGBoost core, or some parameter actually being used\n",
      "  but getting flagged wrongly here. Please open an issue if you find any such cases.\n",
      "\n",
      "\n",
      "[21:43:52] WARNING: D:\\Build\\xgboost\\xgboost-1.5.1.git\\src\\learner.cc:576: \n",
      "Parameters: { \"silent\" } might not be used.\n",
      "\n",
      "  This could be a false alarm, with some parameters getting used by language bindings but\n",
      "  then being mistakenly passed down to XGBoost core, or some parameter actually being used\n",
      "  but getting flagged wrongly here. Please open an issue if you find any such cases.\n",
      "\n",
      "\n",
      "[21:44:01] WARNING: D:\\Build\\xgboost\\xgboost-1.5.1.git\\src\\learner.cc:576: \n",
      "Parameters: { \"silent\" } might not be used.\n",
      "\n",
      "  This could be a false alarm, with some parameters getting used by language bindings but\n",
      "  then being mistakenly passed down to XGBoost core, or some parameter actually being used\n",
      "  but getting flagged wrongly here. Please open an issue if you find any such cases.\n",
      "\n",
      "\n",
      "[21:44:10] WARNING: D:\\Build\\xgboost\\xgboost-1.5.1.git\\src\\learner.cc:576: \n",
      "Parameters: { \"silent\" } might not be used.\n",
      "\n",
      "  This could be a false alarm, with some parameters getting used by language bindings but\n",
      "  then being mistakenly passed down to XGBoost core, or some parameter actually being used\n",
      "  but getting flagged wrongly here. Please open an issue if you find any such cases.\n",
      "\n",
      "\n",
      "[21:44:19] WARNING: D:\\Build\\xgboost\\xgboost-1.5.1.git\\src\\learner.cc:576: \n",
      "Parameters: { \"silent\" } might not be used.\n",
      "\n",
      "  This could be a false alarm, with some parameters getting used by language bindings but\n",
      "  then being mistakenly passed down to XGBoost core, or some parameter actually being used\n",
      "  but getting flagged wrongly here. Please open an issue if you find any such cases.\n",
      "\n",
      "\n",
      "[21:44:29] WARNING: D:\\Build\\xgboost\\xgboost-1.5.1.git\\src\\learner.cc:576: \n",
      "Parameters: { \"silent\" } might not be used.\n",
      "\n",
      "  This could be a false alarm, with some parameters getting used by language bindings but\n",
      "  then being mistakenly passed down to XGBoost core, or some parameter actually being used\n",
      "  but getting flagged wrongly here. Please open an issue if you find any such cases.\n",
      "\n",
      "\n",
      "[21:44:38] WARNING: D:\\Build\\xgboost\\xgboost-1.5.1.git\\src\\learner.cc:576: \n",
      "Parameters: { \"silent\" } might not be used.\n",
      "\n",
      "  This could be a false alarm, with some parameters getting used by language bindings but\n",
      "  then being mistakenly passed down to XGBoost core, or some parameter actually being used\n",
      "  but getting flagged wrongly here. Please open an issue if you find any such cases.\n",
      "\n",
      "\n",
      "[21:44:48] WARNING: D:\\Build\\xgboost\\xgboost-1.5.1.git\\src\\learner.cc:576: \n",
      "Parameters: { \"silent\" } might not be used.\n",
      "\n",
      "  This could be a false alarm, with some parameters getting used by language bindings but\n",
      "  then being mistakenly passed down to XGBoost core, or some parameter actually being used\n",
      "  but getting flagged wrongly here. Please open an issue if you find any such cases.\n",
      "\n",
      "\n",
      "[21:44:58] WARNING: D:\\Build\\xgboost\\xgboost-1.5.1.git\\src\\learner.cc:576: \n",
      "Parameters: { \"silent\" } might not be used.\n",
      "\n",
      "  This could be a false alarm, with some parameters getting used by language bindings but\n",
      "  then being mistakenly passed down to XGBoost core, or some parameter actually being used\n",
      "  but getting flagged wrongly here. Please open an issue if you find any such cases.\n",
      "\n",
      "\n",
      "[21:45:10] WARNING: D:\\Build\\xgboost\\xgboost-1.5.1.git\\src\\learner.cc:576: \n",
      "Parameters: { \"silent\" } might not be used.\n",
      "\n",
      "  This could be a false alarm, with some parameters getting used by language bindings but\n",
      "  then being mistakenly passed down to XGBoost core, or some parameter actually being used\n",
      "  but getting flagged wrongly here. Please open an issue if you find any such cases.\n",
      "\n",
      "\n",
      "[21:45:21] WARNING: D:\\Build\\xgboost\\xgboost-1.5.1.git\\src\\learner.cc:576: \n",
      "Parameters: { \"silent\" } might not be used.\n",
      "\n",
      "  This could be a false alarm, with some parameters getting used by language bindings but\n",
      "  then being mistakenly passed down to XGBoost core, or some parameter actually being used\n",
      "  but getting flagged wrongly here. Please open an issue if you find any such cases.\n",
      "\n",
      "\n",
      "[21:45:32] WARNING: D:\\Build\\xgboost\\xgboost-1.5.1.git\\src\\learner.cc:576: \n",
      "Parameters: { \"silent\" } might not be used.\n",
      "\n",
      "  This could be a false alarm, with some parameters getting used by language bindings but\n",
      "  then being mistakenly passed down to XGBoost core, or some parameter actually being used\n",
      "  but getting flagged wrongly here. Please open an issue if you find any such cases.\n",
      "\n",
      "\n",
      "[21:45:42] WARNING: D:\\Build\\xgboost\\xgboost-1.5.1.git\\src\\learner.cc:576: \n",
      "Parameters: { \"silent\" } might not be used.\n",
      "\n",
      "  This could be a false alarm, with some parameters getting used by language bindings but\n",
      "  then being mistakenly passed down to XGBoost core, or some parameter actually being used\n",
      "  but getting flagged wrongly here. Please open an issue if you find any such cases.\n",
      "\n",
      "\n",
      "[21:45:53] WARNING: D:\\Build\\xgboost\\xgboost-1.5.1.git\\src\\learner.cc:576: \n",
      "Parameters: { \"silent\" } might not be used.\n",
      "\n",
      "  This could be a false alarm, with some parameters getting used by language bindings but\n",
      "  then being mistakenly passed down to XGBoost core, or some parameter actually being used\n",
      "  but getting flagged wrongly here. Please open an issue if you find any such cases.\n",
      "\n",
      "\n",
      "[21:46:03] WARNING: D:\\Build\\xgboost\\xgboost-1.5.1.git\\src\\learner.cc:576: \n",
      "Parameters: { \"silent\" } might not be used.\n",
      "\n",
      "  This could be a false alarm, with some parameters getting used by language bindings but\n",
      "  then being mistakenly passed down to XGBoost core, or some parameter actually being used\n",
      "  but getting flagged wrongly here. Please open an issue if you find any such cases.\n",
      "\n",
      "\n",
      "[21:46:12] WARNING: D:\\Build\\xgboost\\xgboost-1.5.1.git\\src\\learner.cc:576: \n",
      "Parameters: { \"silent\" } might not be used.\n",
      "\n",
      "  This could be a false alarm, with some parameters getting used by language bindings but\n",
      "  then being mistakenly passed down to XGBoost core, or some parameter actually being used\n",
      "  but getting flagged wrongly here. Please open an issue if you find any such cases.\n",
      "\n",
      "\n",
      "[21:46:21] WARNING: D:\\Build\\xgboost\\xgboost-1.5.1.git\\src\\learner.cc:576: \n",
      "Parameters: { \"silent\" } might not be used.\n",
      "\n",
      "  This could be a false alarm, with some parameters getting used by language bindings but\n",
      "  then being mistakenly passed down to XGBoost core, or some parameter actually being used\n",
      "  but getting flagged wrongly here. Please open an issue if you find any such cases.\n",
      "\n",
      "\n",
      "[21:46:31] WARNING: D:\\Build\\xgboost\\xgboost-1.5.1.git\\src\\learner.cc:576: \n",
      "Parameters: { \"silent\" } might not be used.\n",
      "\n",
      "  This could be a false alarm, with some parameters getting used by language bindings but\n",
      "  then being mistakenly passed down to XGBoost core, or some parameter actually being used\n",
      "  but getting flagged wrongly here. Please open an issue if you find any such cases.\n",
      "\n",
      "\n",
      "[21:46:42] WARNING: D:\\Build\\xgboost\\xgboost-1.5.1.git\\src\\learner.cc:576: \n",
      "Parameters: { \"silent\" } might not be used.\n",
      "\n",
      "  This could be a false alarm, with some parameters getting used by language bindings but\n",
      "  then being mistakenly passed down to XGBoost core, or some parameter actually being used\n",
      "  but getting flagged wrongly here. Please open an issue if you find any such cases.\n",
      "\n",
      "\n",
      "[21:46:52] WARNING: D:\\Build\\xgboost\\xgboost-1.5.1.git\\src\\learner.cc:576: \n",
      "Parameters: { \"silent\" } might not be used.\n",
      "\n",
      "  This could be a false alarm, with some parameters getting used by language bindings but\n",
      "  then being mistakenly passed down to XGBoost core, or some parameter actually being used\n",
      "  but getting flagged wrongly here. Please open an issue if you find any such cases.\n",
      "\n",
      "\n",
      "[21:47:02] WARNING: D:\\Build\\xgboost\\xgboost-1.5.1.git\\src\\learner.cc:576: \n",
      "Parameters: { \"silent\" } might not be used.\n",
      "\n",
      "  This could be a false alarm, with some parameters getting used by language bindings but\n",
      "  then being mistakenly passed down to XGBoost core, or some parameter actually being used\n",
      "  but getting flagged wrongly here. Please open an issue if you find any such cases.\n",
      "\n",
      "\n",
      "[21:47:14] WARNING: D:\\Build\\xgboost\\xgboost-1.5.1.git\\src\\learner.cc:576: \n",
      "Parameters: { \"silent\" } might not be used.\n",
      "\n",
      "  This could be a false alarm, with some parameters getting used by language bindings but\n",
      "  then being mistakenly passed down to XGBoost core, or some parameter actually being used\n",
      "  but getting flagged wrongly here. Please open an issue if you find any such cases.\n",
      "\n",
      "\n",
      "[21:47:24] WARNING: D:\\Build\\xgboost\\xgboost-1.5.1.git\\src\\learner.cc:576: \n",
      "Parameters: { \"silent\" } might not be used.\n",
      "\n",
      "  This could be a false alarm, with some parameters getting used by language bindings but\n",
      "  then being mistakenly passed down to XGBoost core, or some parameter actually being used\n",
      "  but getting flagged wrongly here. Please open an issue if you find any such cases.\n",
      "\n",
      "\n",
      "[21:47:35] WARNING: D:\\Build\\xgboost\\xgboost-1.5.1.git\\src\\learner.cc:576: \n",
      "Parameters: { \"silent\" } might not be used.\n",
      "\n",
      "  This could be a false alarm, with some parameters getting used by language bindings but\n",
      "  then being mistakenly passed down to XGBoost core, or some parameter actually being used\n",
      "  but getting flagged wrongly here. Please open an issue if you find any such cases.\n",
      "\n",
      "\n",
      "[21:47:45] WARNING: D:\\Build\\xgboost\\xgboost-1.5.1.git\\src\\learner.cc:576: \n",
      "Parameters: { \"silent\" } might not be used.\n",
      "\n",
      "  This could be a false alarm, with some parameters getting used by language bindings but\n",
      "  then being mistakenly passed down to XGBoost core, or some parameter actually being used\n",
      "  but getting flagged wrongly here. Please open an issue if you find any such cases.\n",
      "\n",
      "\n",
      "[21:47:56] WARNING: D:\\Build\\xgboost\\xgboost-1.5.1.git\\src\\learner.cc:576: \n",
      "Parameters: { \"silent\" } might not be used.\n",
      "\n",
      "  This could be a false alarm, with some parameters getting used by language bindings but\n",
      "  then being mistakenly passed down to XGBoost core, or some parameter actually being used\n",
      "  but getting flagged wrongly here. Please open an issue if you find any such cases.\n",
      "\n",
      "\n",
      "[21:48:06] WARNING: D:\\Build\\xgboost\\xgboost-1.5.1.git\\src\\learner.cc:576: \n",
      "Parameters: { \"silent\" } might not be used.\n",
      "\n",
      "  This could be a false alarm, with some parameters getting used by language bindings but\n",
      "  then being mistakenly passed down to XGBoost core, or some parameter actually being used\n",
      "  but getting flagged wrongly here. Please open an issue if you find any such cases.\n",
      "\n",
      "\n",
      "[21:48:17] WARNING: D:\\Build\\xgboost\\xgboost-1.5.1.git\\src\\learner.cc:576: \n",
      "Parameters: { \"silent\" } might not be used.\n",
      "\n",
      "  This could be a false alarm, with some parameters getting used by language bindings but\n",
      "  then being mistakenly passed down to XGBoost core, or some parameter actually being used\n",
      "  but getting flagged wrongly here. Please open an issue if you find any such cases.\n",
      "\n",
      "\n",
      "[21:48:28] WARNING: D:\\Build\\xgboost\\xgboost-1.5.1.git\\src\\learner.cc:576: \n",
      "Parameters: { \"silent\" } might not be used.\n",
      "\n",
      "  This could be a false alarm, with some parameters getting used by language bindings but\n",
      "  then being mistakenly passed down to XGBoost core, or some parameter actually being used\n",
      "  but getting flagged wrongly here. Please open an issue if you find any such cases.\n",
      "\n",
      "\n",
      "[21:48:39] WARNING: D:\\Build\\xgboost\\xgboost-1.5.1.git\\src\\learner.cc:576: \n",
      "Parameters: { \"silent\" } might not be used.\n",
      "\n",
      "  This could be a false alarm, with some parameters getting used by language bindings but\n",
      "  then being mistakenly passed down to XGBoost core, or some parameter actually being used\n",
      "  but getting flagged wrongly here. Please open an issue if you find any such cases.\n",
      "\n",
      "\n",
      "[21:48:50] WARNING: D:\\Build\\xgboost\\xgboost-1.5.1.git\\src\\learner.cc:576: \n",
      "Parameters: { \"silent\" } might not be used.\n",
      "\n",
      "  This could be a false alarm, with some parameters getting used by language bindings but\n",
      "  then being mistakenly passed down to XGBoost core, or some parameter actually being used\n",
      "  but getting flagged wrongly here. Please open an issue if you find any such cases.\n",
      "\n",
      "\n",
      "[21:49:02] WARNING: D:\\Build\\xgboost\\xgboost-1.5.1.git\\src\\learner.cc:576: \n",
      "Parameters: { \"silent\" } might not be used.\n",
      "\n",
      "  This could be a false alarm, with some parameters getting used by language bindings but\n",
      "  then being mistakenly passed down to XGBoost core, or some parameter actually being used\n",
      "  but getting flagged wrongly here. Please open an issue if you find any such cases.\n",
      "\n",
      "\n",
      "[21:49:14] WARNING: D:\\Build\\xgboost\\xgboost-1.5.1.git\\src\\learner.cc:576: \n",
      "Parameters: { \"silent\" } might not be used.\n",
      "\n",
      "  This could be a false alarm, with some parameters getting used by language bindings but\n",
      "  then being mistakenly passed down to XGBoost core, or some parameter actually being used\n",
      "  but getting flagged wrongly here. Please open an issue if you find any such cases.\n",
      "\n",
      "\n",
      "[21:49:25] WARNING: D:\\Build\\xgboost\\xgboost-1.5.1.git\\src\\learner.cc:576: \n",
      "Parameters: { \"silent\" } might not be used.\n",
      "\n",
      "  This could be a false alarm, with some parameters getting used by language bindings but\n",
      "  then being mistakenly passed down to XGBoost core, or some parameter actually being used\n",
      "  but getting flagged wrongly here. Please open an issue if you find any such cases.\n",
      "\n",
      "\n",
      "[21:49:36] WARNING: D:\\Build\\xgboost\\xgboost-1.5.1.git\\src\\learner.cc:576: \n",
      "Parameters: { \"silent\" } might not be used.\n",
      "\n",
      "  This could be a false alarm, with some parameters getting used by language bindings but\n",
      "  then being mistakenly passed down to XGBoost core, or some parameter actually being used\n",
      "  but getting flagged wrongly here. Please open an issue if you find any such cases.\n",
      "\n",
      "\n",
      "[21:49:47] WARNING: D:\\Build\\xgboost\\xgboost-1.5.1.git\\src\\learner.cc:576: \n",
      "Parameters: { \"silent\" } might not be used.\n",
      "\n",
      "  This could be a false alarm, with some parameters getting used by language bindings but\n",
      "  then being mistakenly passed down to XGBoost core, or some parameter actually being used\n",
      "  but getting flagged wrongly here. Please open an issue if you find any such cases.\n",
      "\n",
      "\n",
      "[21:49:58] WARNING: D:\\Build\\xgboost\\xgboost-1.5.1.git\\src\\learner.cc:576: \n",
      "Parameters: { \"silent\" } might not be used.\n",
      "\n",
      "  This could be a false alarm, with some parameters getting used by language bindings but\n",
      "  then being mistakenly passed down to XGBoost core, or some parameter actually being used\n",
      "  but getting flagged wrongly here. Please open an issue if you find any such cases.\n",
      "\n",
      "\n",
      "[21:50:11] WARNING: D:\\Build\\xgboost\\xgboost-1.5.1.git\\src\\learner.cc:576: \n",
      "Parameters: { \"silent\" } might not be used.\n",
      "\n",
      "  This could be a false alarm, with some parameters getting used by language bindings but\n",
      "  then being mistakenly passed down to XGBoost core, or some parameter actually being used\n",
      "  but getting flagged wrongly here. Please open an issue if you find any such cases.\n",
      "\n",
      "\n",
      "[21:50:24] WARNING: D:\\Build\\xgboost\\xgboost-1.5.1.git\\src\\learner.cc:576: \n",
      "Parameters: { \"silent\" } might not be used.\n",
      "\n",
      "  This could be a false alarm, with some parameters getting used by language bindings but\n",
      "  then being mistakenly passed down to XGBoost core, or some parameter actually being used\n",
      "  but getting flagged wrongly here. Please open an issue if you find any such cases.\n",
      "\n",
      "\n",
      "[21:50:37] WARNING: D:\\Build\\xgboost\\xgboost-1.5.1.git\\src\\learner.cc:576: \n",
      "Parameters: { \"silent\" } might not be used.\n",
      "\n",
      "  This could be a false alarm, with some parameters getting used by language bindings but\n",
      "  then being mistakenly passed down to XGBoost core, or some parameter actually being used\n",
      "  but getting flagged wrongly here. Please open an issue if you find any such cases.\n",
      "\n",
      "\n",
      "[21:50:48] WARNING: D:\\Build\\xgboost\\xgboost-1.5.1.git\\src\\learner.cc:576: \n",
      "Parameters: { \"silent\" } might not be used.\n",
      "\n",
      "  This could be a false alarm, with some parameters getting used by language bindings but\n",
      "  then being mistakenly passed down to XGBoost core, or some parameter actually being used\n",
      "  but getting flagged wrongly here. Please open an issue if you find any such cases.\n",
      "\n",
      "\n",
      "[21:51:01] WARNING: D:\\Build\\xgboost\\xgboost-1.5.1.git\\src\\learner.cc:576: \n",
      "Parameters: { \"silent\" } might not be used.\n",
      "\n",
      "  This could be a false alarm, with some parameters getting used by language bindings but\n",
      "  then being mistakenly passed down to XGBoost core, or some parameter actually being used\n",
      "  but getting flagged wrongly here. Please open an issue if you find any such cases.\n",
      "\n",
      "\n"
     ]
    }
   ],
   "source": [
    "df_backtest2 = pd.DataFrame()\n",
    "var_selected_2=OrderedDict()\n",
    "# model_backtest2 = OrderedDict()\n",
    "df_all2 = df_train_final_xgb.copy()\n",
    "df_temp2 = df_all2.reset_index()\n",
    "for i in range(36,(len(model_update_date)-1)):\n",
    "    dt = model_update_date[i]\n",
    "    dt_3yrs_ago = model_update_date[i-36]\n",
    "    dt_1month_ahead = model_update_date[i+1]\n",
    "    f_selected = getBestFactor(ICIR,dt)\n",
    "    var_selected_2[dt] = f_selected\n",
    "    x_train2 = df_temp2[(df_temp2[\"date\"]>dt_3yrs_ago)&(df_temp2[\"date\"]<=dt)].set_index([\"date\",\"stock_id\"])[f_selected+columns_industry]\n",
    "    y_train2 = df_temp2[(df_temp2[\"date\"]>dt_3yrs_ago)&(df_temp2[\"date\"]<=dt)].set_index([\"date\",\"stock_id\"])[\"return\"]\n",
    "    data_test2 =df_temp2[(df_temp2[\"date\"]<=dt_1month_ahead)&(df_temp2[\"date\"]>dt)].set_index([\"date\",\"stock_id\"])\n",
    "    x_test2 = data_test2[f_selected+columns_industry]\n",
    "    model_xgb = xgb.XGBRegressor(silent=True,learning_rate =0.05,n_estimators=1000,max_depth=7,subsample=1,colsample_bytree=1,seed=0,min_child_weight=10,nthread=-1)\n",
    "    model_xgb.fit(x_train2, y_train2)\n",
    "#     model_backtest2[dt]=model_xgb\n",
    "    data_test2[\"r_predict\"]=model_xgb.predict(x_test2)\n",
    "    df_backtest2= pd.concat([df_backtest2,data_test2],axis=0)  "
   ]
  },
  {
   "cell_type": "code",
   "execution_count": 1299,
   "id": "11f6d2d8",
   "metadata": {},
   "outputs": [],
   "source": [
    "portfolio_stock_list2 = df_backtest2[df_backtest2[\"r_predict\"].groupby(level=0).rank(ascending=False)<=100]"
   ]
  },
  {
   "cell_type": "code",
   "execution_count": 1300,
   "id": "540fe739",
   "metadata": {},
   "outputs": [],
   "source": [
    "#交易成本测算 - 单边千1\n",
    "fee_est3 = portfolio_stock_list2.reset_index()\n",
    "turnover_rate3 = OrderedDict()\n",
    "tran_fee3=OrderedDict()\n",
    "for i in range(len(portfolio_stock_list2.index.levels[0])):\n",
    "    date = portfolio_stock_list2.index.levels[0][i]\n",
    "    s_t1_list3 = fee_est3[fee_est3[\"date\"]==date][\"stock_id\"]\n",
    "    if i ==0:\n",
    "        s_t0_list3=list()\n",
    "    else:\n",
    "        date_t0=portfolio_stock_list2.index.levels[0][i-1]\n",
    "        s_t0_list3 = fee_est3[fee_est3[\"date\"]==date_t0][\"stock_id\"]\n",
    "    stock_change_pct3=(len(s_t1_list3)-s_t1_list3.isin(list(s_t0_list3)).sum())/len(s_t1_list3)\n",
    "    turnover_rate3[date] = stock_change_pct3\n",
    "    if i==0:\n",
    "        tran_cost = stock_change_pct3*0.001\n",
    "    else:\n",
    "        tran_cost = stock_change_pct3*0.002\n",
    "    tran_fee3[date] = tran_cost"
   ]
  },
  {
   "cell_type": "code",
   "execution_count": 1268,
   "id": "6894b24d",
   "metadata": {},
   "outputs": [
    {
     "name": "stdout",
     "output_type": "stream",
     "text": [
      "组合回测期平均年化收益：\n",
      "0.13678979780959682\n",
      "组合回测期胜率：\n",
      "0.5551601423487544\n",
      "组合回测期波动率：\n",
      "0.2602026011880928\n",
      "组合回测期平均年化收益(除去交易成本）：\n",
      "0.08399406827223029\n",
      "组合周度换仓平均换手率：\n",
      "0.5094306049822063\n"
     ]
    }
   ],
   "source": [
    "#xgboost\n",
    "#等权买入选出股票，计算每期收益\n",
    "portfolio_return2 = portfolio_stock_list2[\"return\"].groupby(level=0).mean()\n",
    "#计算回测期平均收益，并转换为年化收益\n",
    "print(\"组合回测期平均年化收益：\")\n",
    "print(portfolio_return2.mean()*52)\n",
    "print(\"组合回测期胜率：\")\n",
    "print((portfolio_return2>0).sum()/len(portfolio_return2))\n",
    "print(\"组合回测期波动率：\")\n",
    "print((portfolio_return2).std()*np.sqrt(52))\n",
    "# print(\"组合回测期最大回测：\")\n",
    "# print(max_Drawdown(portfolio_return2))\n",
    "portfolio_return_wo_fee2=(portfolio_return2-list(tran_fee3.values()))\n",
    "print(\"组合回测期平均年化收益(除去交易成本）：\")\n",
    "print(portfolio_return_wo_fee2.mean()*52)\n",
    "turnover_rate_avg3 = np.average(list(turnover_rate3.values()))\n",
    "print(\"组合周度换仓平均换手率：\")\n",
    "print(turnover_rate_avg3)"
   ]
  },
  {
   "cell_type": "code",
   "execution_count": 1301,
   "id": "ec916c71",
   "metadata": {},
   "outputs": [
    {
     "name": "stdout",
     "output_type": "stream",
     "text": [
      "组合回测期平均年化收益：\n",
      "0.12109774487856266\n",
      "组合回测期胜率：\n",
      "0.5444839857651246\n",
      "组合回测期波动率：\n",
      "0.2641448633264826\n",
      "组合回测期平均年化收益(除去交易成本）：\n",
      "0.07571525377535983\n",
      "组合周度换仓平均换手率：\n",
      "0.4381494661921709\n"
     ]
    }
   ],
   "source": [
    "#xgboost\n",
    "#等权买入选出股票，计算每期收益\n",
    "portfolio_return2 = portfolio_stock_list2[\"return\"].groupby(level=0).mean()\n",
    "#计算回测期平均收益，并转换为年化收益\n",
    "print(\"组合回测期平均年化收益：\")\n",
    "print(portfolio_return2.mean()*52)\n",
    "print(\"组合回测期胜率：\")\n",
    "print((portfolio_return2>0).sum()/len(portfolio_return2))\n",
    "print(\"组合回测期波动率：\")\n",
    "print((portfolio_return2).std()*np.sqrt(52))\n",
    "# print(\"组合回测期最大回测：\")\n",
    "# print(max_Drawdown(portfolio_return2))\n",
    "portfolio_return_wo_fee2=(portfolio_return2-list(tran_fee3.values()))\n",
    "print(\"组合回测期平均年化收益(除去交易成本）：\")\n",
    "print(portfolio_return_wo_fee2.mean()*52)\n",
    "turnover_rate_avg3 = np.average(list(turnover_rate3.values()))\n",
    "print(\"组合周度换仓平均换手率：\")\n",
    "print(turnover_rate_avg3)"
   ]
  },
  {
   "cell_type": "code",
   "execution_count": 1271,
   "id": "2bb70f41",
   "metadata": {},
   "outputs": [
    {
     "name": "stdout",
     "output_type": "stream",
     "text": [
      "基准回测期平均年化收益：\n",
      "0.06663579220870032\n",
      "基准回测期胜率：\n",
      "0.5338078291814946\n",
      "基准回测期波动率：\n",
      "0.2525838691415711\n",
      "基准回测期平均年化收益(除去交易成本）：\n",
      "0.0659111157299805\n"
     ]
    }
   ],
   "source": [
    "#等权买入所有股票，作为基准\n",
    "benchmark_return = df_backtest[\"return\"].groupby(level=0).mean()\n",
    "print(\"基准回测期平均年化收益：\")\n",
    "print(benchmark_return.mean()*52)\n",
    "print(\"基准回测期胜率：\")\n",
    "print((benchmark_return>0).sum()/len(benchmark_return))\n",
    "print(\"基准回测期波动率：\")\n",
    "print((benchmark_return).std()*np.sqrt(52))\n",
    "benchmark_return_wo_fee=(benchmark_return-list(tran_fee2.values()))\n",
    "print(\"基准回测期平均年化收益(除去交易成本）：\")\n",
    "print(benchmark_return_wo_fee.mean()*52)"
   ]
  },
  {
   "cell_type": "code",
   "execution_count": 1269,
   "id": "5610d228",
   "metadata": {},
   "outputs": [
    {
     "name": "stdout",
     "output_type": "stream",
     "text": [
      "超额收益回测期平均年化收益：\n",
      "0.07015400560089657\n",
      "超额收益回测期胜率：\n",
      "0.6512455516014235\n",
      "超额收益回测期波动率：\n",
      "0.0481481308013867\n",
      "超额收益回测期平均年化收益(除去交易成本）：\n",
      "0.018082952542249835\n"
     ]
    }
   ],
   "source": [
    "#等权买入所有股票，作为基准\n",
    "active_return2 = (portfolio_return2-benchmark_return)\n",
    "print(\"超额收益回测期平均年化收益：\")\n",
    "print(active_return2.mean()*52)\n",
    "print(\"超额收益回测期胜率：\")\n",
    "print((active_return2>0).sum()/len(active_return2))\n",
    "print(\"超额收益回测期波动率：\")\n",
    "print((active_return2).std()*np.sqrt(52))\n",
    "active_return_wo_fee2 = (portfolio_return_wo_fee2-benchmark_return_wo_fee)\n",
    "print(\"超额收益回测期平均年化收益(除去交易成本）：\")\n",
    "print(active_return_wo_fee2.mean()*52)"
   ]
  },
  {
   "cell_type": "code",
   "execution_count": null,
   "id": "710e4c4a",
   "metadata": {},
   "outputs": [],
   "source": []
  }
 ],
 "metadata": {
  "kernelspec": {
   "display_name": "Python 3",
   "language": "python",
   "name": "python3"
  },
  "language_info": {
   "codemirror_mode": {
    "name": "ipython",
    "version": 3
   },
   "file_extension": ".py",
   "mimetype": "text/x-python",
   "name": "python",
   "nbconvert_exporter": "python",
   "pygments_lexer": "ipython3",
   "version": "3.7.0"
  }
 },
 "nbformat": 4,
 "nbformat_minor": 5
}
